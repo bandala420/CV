{
 "cells": [
  {
   "cell_type": "code",
   "execution_count": 1,
   "id": "3dd3c6d4",
   "metadata": {},
   "outputs": [],
   "source": [
    "import numpy as np\n",
    "import cv2 as cv\n",
    "import matplotlib.pyplot as plt"
   ]
  },
  {
   "cell_type": "code",
   "execution_count": 2,
   "id": "26313fd2",
   "metadata": {},
   "outputs": [
    {
     "data": {
      "text/plain": [
       "(220, 229)"
      ]
     },
     "execution_count": 2,
     "metadata": {},
     "output_type": "execute_result"
    }
   ],
   "source": [
    "input_image = cv.imread(\"leaf.jpeg\",0)\n",
    "input_image.shape"
   ]
  },
  {
   "cell_type": "code",
   "execution_count": 3,
   "id": "045e21b1",
   "metadata": {},
   "outputs": [],
   "source": [
    "scale_percent = 50 # percent of original size\n",
    "width = int(input_image.shape[1] * scale_percent / 100)\n",
    "height = int(input_image.shape[0] * scale_percent / 100)\n",
    "dim = (width, height)\n",
    "  \n",
    "# resize image\n",
    "img = cv.resize(input_image, dim, interpolation = cv.INTER_AREA)"
   ]
  },
  {
   "cell_type": "code",
   "execution_count": 4,
   "id": "16ba4288",
   "metadata": {},
   "outputs": [
    {
     "data": {
      "text/plain": [
       "(110, 114)"
      ]
     },
     "execution_count": 4,
     "metadata": {},
     "output_type": "execute_result"
    }
   ],
   "source": [
    "img.shape"
   ]
  },
  {
   "cell_type": "code",
   "execution_count": 5,
   "id": "9316b8a1",
   "metadata": {
    "scrolled": true
   },
   "outputs": [
    {
     "data": {
      "text/plain": [
       "<matplotlib.image.AxesImage at 0x7f3d5df7a5e0>"
      ]
     },
     "execution_count": 5,
     "metadata": {},
     "output_type": "execute_result"
    },
    {
     "data": {
      "image/png": "[encoded data removed]",
      "text/plain": [
       "<Figure size 432x288 with 1 Axes>"
      ]
     },
     "metadata": {
      "needs_background": "light"
     },
     "output_type": "display_data"
    }
   ],
   "source": [
    "plt.imshow(img,cmap='gray')\n",
    "#plt.imshow(input_image[:,:,2])"
   ]
  },
  {
   "cell_type": "code",
   "execution_count": 6,
   "id": "be989bd9",
   "metadata": {},
   "outputs": [],
   "source": [
    "laplacian = cv.Laplacian(img,cv.CV_64F)"
   ]
  },
  {
   "cell_type": "code",
   "execution_count": 7,
   "id": "cf0b0184",
   "metadata": {},
   "outputs": [],
   "source": [
    "laplacian = np.uint(laplacian)"
   ]
  },
  {
   "cell_type": "code",
   "execution_count": 8,
   "id": "9302346f",
   "metadata": {},
   "outputs": [],
   "source": [
    "edges = cv.Canny(img,250,250)"
   ]
  },
  {
   "cell_type": "code",
   "execution_count": 9,
   "id": "64d1526d",
   "metadata": {
    "scrolled": false
   },
   "outputs": [
    {
     "data": {
      "text/plain": [
       "<matplotlib.image.AxesImage at 0x7f3d5da55bb0>"
      ]
     },
     "execution_count": 9,
     "metadata": {},
     "output_type": "execute_result"
    },
    {
     "data": {
      "image/png": "[encoded data removed]",
      "text/plain": [
       "<Figure size 432x288 with 1 Axes>"
      ]
     },
     "metadata": {
      "needs_background": "light"
     },
     "output_type": "display_data"
    }
   ],
   "source": [
    "plt.imshow(edges,cmap='gray')"
   ]
  },
  {
   "cell_type": "code",
   "execution_count": 10,
   "id": "b2c051e4",
   "metadata": {
    "scrolled": true
   },
   "outputs": [
    {
     "data": {
      "text/plain": [
       "array([[  0,   0,   0, ...,   0,   0,   0],\n",
       "       [  0,   0,   0, ...,   0,   0,   0],\n",
       "       [  0,   0,   0, ...,   0,   0,   0],\n",
       "       ...,\n",
       "       [  0, 255,   0, ...,   0,   0,   0],\n",
       "       [  0, 255, 255, ...,   0,   0,   0],\n",
       "       [  0,   0,   0, ...,   0,   0,   0]], dtype=uint8)"
      ]
     },
     "execution_count": 10,
     "metadata": {},
     "output_type": "execute_result"
    }
   ],
   "source": [
    "edges"
   ]
  },
  {
   "cell_type": "code",
   "execution_count": 11,
   "id": "9ae6af23",
   "metadata": {
    "scrolled": true
   },
   "outputs": [
    {
     "data": {
      "text/plain": [
       "<matplotlib.image.AxesImage at 0x7f3d591b7040>"
      ]
     },
     "execution_count": 11,
     "metadata": {},
     "output_type": "execute_result"
    },
    {
     "data": {
      "image/png": "[encoded data removed]",
      "text/plain": [
       "<Figure size 432x288 with 1 Axes>"
      ]
     },
     "metadata": {
      "needs_background": "light"
     },
     "output_type": "display_data"
    }
   ],
   "source": [
    "cnts = cv.findContours(edges, cv.RETR_EXTERNAL, cv.CHAIN_APPROX_SIMPLE)\n",
    "cnts = cnts[0] if len(cnts) == 2 else cnts[1]\n",
    "\n",
    "for c in cnts:\n",
    "    cv.drawContours(edges,[c], 0, (255,255,255), -1)\n",
    "\n",
    "kernel = cv.getStructuringElement(cv.MORPH_RECT, (20,20))\n",
    "mask = cv.morphologyEx(edges, cv.MORPH_OPEN, kernel, iterations=2)\n",
    "mask = mask.astype(float) / 255\n",
    "plt.imshow(mask,cmap='gray')"
   ]
  },
  {
   "cell_type": "code",
   "execution_count": 12,
   "id": "aa0acf7c",
   "metadata": {},
   "outputs": [
    {
     "data": {
      "text/plain": [
       "<matplotlib.image.AxesImage at 0x7f3d5917f610>"
      ]
     },
     "execution_count": 12,
     "metadata": {},
     "output_type": "execute_result"
    },
    {
     "data": {
      "image/png": "[encoded data removed]",
      "text/plain": [
       "<Figure size 432x288 with 1 Axes>"
      ]
     },
     "metadata": {
      "needs_background": "light"
     },
     "output_type": "display_data"
    }
   ],
   "source": [
    "plt.imshow(edges,cmap='gray')"
   ]
  },
  {
   "cell_type": "code",
   "execution_count": 13,
   "id": "48bd62de",
   "metadata": {},
   "outputs": [],
   "source": [
    "contour = edges.astype(float) / 255"
   ]
  },
  {
   "cell_type": "code",
   "execution_count": 14,
   "id": "9f88db8c",
   "metadata": {},
   "outputs": [],
   "source": [
    "contour = np.pad(contour, [(10, ), (10, )], mode='constant')"
   ]
  },
  {
   "cell_type": "code",
   "execution_count": 15,
   "id": "a5c8f8ed",
   "metadata": {},
   "outputs": [
    {
     "data": {
      "text/plain": [
       "<matplotlib.image.AxesImage at 0x7f3d590d28b0>"
      ]
     },
     "execution_count": 15,
     "metadata": {},
     "output_type": "execute_result"
    },
    {
     "data": {
      "image/png": "[encoded data removed]",
      "text/plain": [
       "<Figure size 432x288 with 1 Axes>"
      ]
     },
     "metadata": {
      "needs_background": "light"
     },
     "output_type": "display_data"
    }
   ],
   "source": [
    "plt.imshow(contour,cmap='gray')"
   ]
  },
  {
   "cell_type": "code",
   "execution_count": 16,
   "id": "71da91b1",
   "metadata": {},
   "outputs": [],
   "source": [
    "def getInitialPixel(ima):\n",
    "    for i in range(len(ima)):\n",
    "        for j in range(len(ima[0])):\n",
    "            if ima[i][j]>0:\n",
    "                return i,j"
   ]
  },
  {
   "cell_type": "code",
   "execution_count": 17,
   "id": "4dfbbb55",
   "metadata": {
    "scrolled": true
   },
   "outputs": [],
   "source": [
    "i,j = getInitialPixel(contour)"
   ]
  },
  {
   "cell_type": "code",
   "execution_count": 18,
   "id": "a6851983",
   "metadata": {},
   "outputs": [],
   "source": [
    "def vertexChainCode(ima):\n",
    "    cad = \"\"\n",
    "    ones = 0\n",
    "    threes = 0\n",
    "    points = []\n",
    "    i,j = getInitialPixel(ima)\n",
    "    points.append([i,j])\n",
    "    act = [i+1,j] # counterclockwise tracking\n",
    "    break_loop = 0\n",
    "    while ones!=4+threes and break_loop<20000: # iterate till closed loop\n",
    "        break_loop += 1\n",
    "        pix = ima[act[0]-1:act[0]+1,act[1]-1:act[1]+1]\n",
    "        pix_sum = np.sum(pix)\n",
    "        cad += str(int(pix_sum))\n",
    "        points.append(act[:])\n",
    "        if pix_sum==1:\n",
    "            ones += 1\n",
    "            act = walk_corner1(pix,act)\n",
    "        elif pix_sum==2:\n",
    "            if pix[0][0]==pix[0][1]:\n",
    "                if pix[0][0]==1:\n",
    "                    act[1] +=1\n",
    "                else:\n",
    "                    act[1] -=1\n",
    "            elif pix[0][0]==0:\n",
    "                act[0] +=1\n",
    "            else:\n",
    "                act[0] -=1\n",
    "        else:\n",
    "            threes +=1\n",
    "            act = walk_corner3(pix,act)\n",
    "    pt = np.array(points).T\n",
    "    fig = plt.figure(figsize=(10,6))\n",
    "    plt.imshow(ima,'gray')\n",
    "    dib = plt.scatter(pt[1],pt[0],2,c=np.arange(len(pt[0])),cmap='jet')\n",
    "    plt.colorbar(dib)\n",
    "    plt.show()\n",
    "    return cad"
   ]
  },
  {
   "cell_type": "code",
   "execution_count": 19,
   "id": "c677a1a6",
   "metadata": {},
   "outputs": [],
   "source": [
    "def walk_corner1(pix,act):\n",
    "    if pix[0][0]>0:\n",
    "        return [act[0]-1,act[1]]\n",
    "    elif pix[0][1]>0:\n",
    "        return [act[0],act[1]+1]\n",
    "    elif pix[1][0]>0:\n",
    "        return [act[0],act[1]-1]\n",
    "    else:\n",
    "        return [act[0]+1,act[1]]"
   ]
  },
  {
   "cell_type": "code",
   "execution_count": 22,
   "id": "0d62b385",
   "metadata": {},
   "outputs": [],
   "source": [
    "def walk_corner3(pix,act):\n",
    "    if pix[0][0]==0:\n",
    "        return [act[0],act[1]-1]\n",
    "    elif pix[0][1]==0:\n",
    "        return [act[0]-1,act[1]]\n",
    "    elif pix[1][0]==0:\n",
    "        return [act[0]+1,act[1]]\n",
    "    elif pix[1][1]==0:\n",
    "        return [act[0],act[1]+1]\n",
    "    else:\n",
    "        return [act[0]+1,act[1]+1]"
   ]
  },
  {
   "cell_type": "code",
   "execution_count": 23,
   "id": "afcb111e",
   "metadata": {
    "scrolled": false
   },
   "outputs": [
    {
     "data": {
      "image/png": "[encoded data removed]",
      "text/plain": [
       "<Figure size 720x432 with 2 Axes>"
      ]
     },
     "metadata": {
      "needs_background": "light"
     },
     "output_type": "display_data"
    }
   ],
   "source": [
    "vcode = vertexChainCode(contour)"
   ]
  },
  {
   "cell_type": "code",
   "execution_count": 24,
   "id": "4ec22ab5",
   "metadata": {
    "scrolled": true
   },
   "outputs": [
    {
     "name": "stdout",
     "output_type": "stream",
     "text": [
      "313221321322222132231222132222312132222221322132221313221313123221313131321313131313131313131312313131231313122312312222312222213222221322132222132222213222312223123131321313132131313213131321313132131313213131313122221221313131313131313132131313132131313132131313213131322222222222312231222231231222312231222223122222222222132132213221313213132131231313213131223131313122313131222312313122312312231312222312222223121322222221322132132132131321321321322132213222221221\n"
     ]
    }
   ],
   "source": [
    "print(vcode)"
   ]
  },
  {
   "cell_type": "code",
   "execution_count": null,
   "id": "27dc31f5",
   "metadata": {},
   "outputs": [],
   "source": []
  }
 ],
 "metadata": {
  "kernelspec": {
   "display_name": "Python 3 (ipykernel)",
   "language": "python",
   "name": "python3"
  },
  "language_info": {
   "codemirror_mode": {
    "name": "ipython",
    "version": 3
   },
   "file_extension": ".py",
   "mimetype": "text/x-python",
   "name": "python",
   "nbconvert_exporter": "python",
   "pygments_lexer": "ipython3",
   "version": "3.8.10"
  }
 },
 "nbformat": 4,
 "nbformat_minor": 5
}
