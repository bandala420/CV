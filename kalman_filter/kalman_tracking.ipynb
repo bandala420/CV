{
 "cells": [
  {
   "cell_type": "code",
   "execution_count": 1,
   "id": "ee60346e",
   "metadata": {},
   "outputs": [],
   "source": [
    "import cv2\n",
    "import numpy as np"
   ]
  },
  {
   "cell_type": "markdown",
   "id": "c2974105",
   "metadata": {},
   "source": [
    "# Estimación de movimiento\n",
    "\n",
    "El siguiente algoritmo realiza el seguimiento y predicción del movimiento de la pupila en el video de demostración. Para ello, se utiliza el filtro de estimación de Kalman para predecir la posición de la pupila. En general, este filtro consta de dos etapas:\n",
    "<li><b>Predicción</b></li>\n",
    "    En donde se utiliza la estimación a priori y la covarianza del error asociada a la estimación a priori\n",
    "    $$\\hat{x}_{k|k-1} = \\Phi_k x_{k-1|k-1}$$ $$P_{k|k-1} = \\Phi_k P_{k-1|k-1}\\Phi_k^{T} + Q_k$$\n",
    "<li><b>Corrección</b></li>\n",
    "    En esta etapa se realiza la actualización del residuo de medición y, por consiguiente, la ganancia del estimador de Kalman\n",
    "    $$\\tilde{y} = z_k - H_k \\hat{x}_{k|k-1} $$ $$K_k = P_{k|k-1} H_k^{T}(H_k P_{k|k-1}H_k^{T} + R_k)^{-1} $$\n",
    "    $$\\hat{x}_{k|k} = \\hat{x}_{k|k-1} + K_k \\tilde{y}_k $$ $$P_{k|k} = (I - K_kH_k)P_{k|k-1} $$"
   ]
  },
  {
   "cell_type": "code",
   "execution_count": 8,
   "id": "fa3e3ead",
   "metadata": {},
   "outputs": [],
   "source": [
    "class KF:\n",
    "    def __init__(self):\n",
    "        self.kf = cv2.KalmanFilter(4,2)\n",
    "        self.kf.measurementMatrix = np.array([[1,0,0,0], [0,1,0,0]], np.float32)\n",
    "        self.kf.transitionMatrix = np.array([[1, 0, 1, 0], [0, 1, 0, 1], [0, 0, 1, 0], [0, 0, 0, 1]], np.float32)\n",
    "    def correct(self,xpos,ypos):\n",
    "        measured = np.array([[np.float32(xpos)], [np.float32(ypos)]])\n",
    "        self.kf.correct(measured)\n",
    "    def predict (self):\n",
    "        predicted = self.kf.predict()\n",
    "        return predicted"
   ]
  },
  {
   "cell_type": "code",
   "execution_count": 9,
   "id": "bcddef02",
   "metadata": {},
   "outputs": [],
   "source": [
    "# get actual eye pupil position\n",
    "def getEye(frame):\n",
    "    lowerB = np.array([0,0,0], dtype = 'uint8')\n",
    "    upperB = np.array([18,18,18], dtype = 'uint8')\n",
    "    # extract mask of darker objects\n",
    "    blackM = cv2.inRange(frame, lowerB, upperB)\n",
    "    # morphological filter to dilate mas\n",
    "    kernel = np.ones((5, 5), np.uint8)\n",
    "    blackMaskDilated = cv2.dilate(blackM, kernel)\n",
    "    # Find ball blob as it is the biggest black object in the frame\n",
    "    [nLabels, labels, stats, centroids] = cv2.connectedComponentsWithStats(blackMaskDilated, 8, cv2.CV_32S)\n",
    "    # First biggest contour is image border always, Remove it\n",
    "    stats = np.delete(stats, (0), axis = 0)    \n",
    "    maxBlobIdx_i, maxBlobIdx_j = np.unravel_index(stats.argmax(), stats.shape)\n",
    "    # This is our ball coords that needs to be tracked\n",
    "    ballX = stats[maxBlobIdx_i, 0] + (stats[maxBlobIdx_i, 2]/2)\n",
    "    ballY = stats[maxBlobIdx_i, 1] + (stats[maxBlobIdx_i, 3]/2)\n",
    "    return ballX, ballY"
   ]
  },
  {
   "cell_type": "code",
   "execution_count": 10,
   "id": "08bca247",
   "metadata": {},
   "outputs": [],
   "source": [
    "kf = KF()\n",
    "vid = cv2.VideoCapture('eye.mp4')\n",
    "i = 0"
   ]
  },
  {
   "cell_type": "code",
   "execution_count": 11,
   "id": "8c293e90",
   "metadata": {},
   "outputs": [],
   "source": [
    "while (vid.isOpened()):\n",
    "    rc, frame = vid.read()\n",
    "    if (rc == True):\n",
    "        if(True): #(i<40):\n",
    "            xp, yp = getEye(frame)\n",
    "            # Draw Actual coords from segmentation\n",
    "            cv2.circle(frame, (int(xp), int(yp)), 40, [255,0,0], 2, 8)\n",
    "            # correcting model with measurements\n",
    "            kf.correct(xp,yp)\n",
    "        #predict ball position with KF model\n",
    "        predXY = kf.predict()    \n",
    "         # Draw Kalman Filter Predicted output\n",
    "        cv2.circle(frame, (int(predXY[0]), int(predXY[1])), 40, [0,255,255], 2, 8)\n",
    "        cv2.imshow('Eye tracking', frame)\n",
    "        i += 1\n",
    "        if (cv2.waitKey(100) & 0xFF == ord('q')): break\n",
    "    else: break\n",
    "\n",
    "vid.release()\n",
    "cv2.destroyAllWindows()"
   ]
  },
  {
   "cell_type": "code",
   "execution_count": null,
   "id": "50cf908a",
   "metadata": {},
   "outputs": [],
   "source": []
  }
 ],
 "metadata": {
  "kernelspec": {
   "display_name": "Python 3",
   "language": "python",
   "name": "python3"
  },
  "language_info": {
   "codemirror_mode": {
    "name": "ipython",
    "version": 3
   },
   "file_extension": ".py",
   "mimetype": "text/x-python",
   "name": "python",
   "nbconvert_exporter": "python",
   "pygments_lexer": "ipython3",
   "version": "3.8.8"
  }
 },
 "nbformat": 4,
 "nbformat_minor": 5
}
