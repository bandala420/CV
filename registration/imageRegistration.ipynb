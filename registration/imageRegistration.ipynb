{
 "cells": [
  {
   "cell_type": "code",
   "execution_count": 66,
   "id": "e3cbb0d5",
   "metadata": {},
   "outputs": [],
   "source": [
    "import cv2\n",
    "import open3d as o3d\n",
    "import matplotlib.pyplot as plt\n",
    "import numpy as np\n",
    "import math\n",
    "import copy\n",
    "from sklearn.linear_model import RANSACRegressor"
   ]
  },
  {
   "cell_type": "markdown",
   "id": "90dea535",
   "metadata": {},
   "source": [
    "# FUNCIONES"
   ]
  },
  {
   "cell_type": "code",
   "execution_count": 2,
   "id": "7f48010e",
   "metadata": {
    "scrolled": true
   },
   "outputs": [],
   "source": [
    "# rotate image\n",
    "# se utiliza la transformacion de euler\n",
    "# x' = xcos(theta)-ysin(theta)\n",
    "# y' = xsin(theta)+ycos(theta)\n",
    "def rotateImage(img,thetaInput):\n",
    "    if thetaInput>=360: thetaInput=thetaInput-360\n",
    "    theta = thetaInput*(math.pi/180)\n",
    "    rotatedSize = int(math.sqrt(len(img)*len(img)+len(img[0])*len(img[0])))\n",
    "    xOffset = 0\n",
    "    yOffset = 0\n",
    "    if 0<=thetaInput<90: xOffset = len(img[0])*math.sin(theta)\n",
    "    elif 90<=thetaInput<180:\n",
    "        xOffset = rotatedSize\n",
    "        yOffset = len(img[0])*math.cos(math.pi-theta)\n",
    "    elif 180<=thetaInput<270:\n",
    "        xOffset = len(img[0])*math.sin(math.pi-theta)\n",
    "        yOffset = rotatedSize\n",
    "    elif 270<=thetaInput<360: yOffset = len(img[0])*math.cos(theta)\n",
    "    imgR = [ [ 0 for i in range(rotatedSize+1) ] for j in range(rotatedSize+1) ]\n",
    "    for i in range(len(img)):\n",
    "        for j in range(len(img[i])):\n",
    "            x = int(i*math.cos(theta)-j*math.sin(theta)+xOffset)\n",
    "            y = int(i*math.sin(theta)+j*math.cos(theta)+yOffset)\n",
    "            imgR[x][y]=img[i][j]\n",
    "    #plt.imshow(imgR)\n",
    "    return np.array(imgR)"
   ]
  },
  {
   "cell_type": "code",
   "execution_count": 3,
   "id": "6a14adf6",
   "metadata": {},
   "outputs": [],
   "source": [
    "# compare keypoints clusters\n",
    "def compareKeyPoints(p_a,p_b):\n",
    "    maxRange = len(p_a) if len(p_a)>len(p_b) else len(p_b)\n",
    "    sumx = 0\n",
    "    sumy = 0\n",
    "    for i in range(maxRange):\n",
    "        if i<len(p_a) and i<len(p_b):\n",
    "            sumx = sumx + p_a[i].pt[0]-p_b[i].pt[0]\n",
    "            sumy = sumx + p_a[i].pt[1]-p_b[i].pt[1]\n",
    "    return round(math.sqrt(sumx*sumx+sumy*sumy),4)"
   ]
  },
  {
   "cell_type": "code",
   "execution_count": 4,
   "id": "fcda2b1c",
   "metadata": {},
   "outputs": [],
   "source": [
    "def findRotation(originalImage,referenceImage):\n",
    "    # get image key points and descriptors\n",
    "    sift = cv2.xfeatures2d.SIFT_create(40)\n",
    "    kp_ref = sift.detect(referenceImage,None)\n",
    "    for i in range(0,360,5):\n",
    "        rotImg = rotateImage(originalImage,i)\n",
    "        image8bit = cv2.normalize(rotImg, None, 0, 255, cv2.NORM_MINMAX).astype('uint8')\n",
    "        kp_a = sift.detect(image8bit,None)\n",
    "        dif = compareKeyPoints(kp_a,kp_ref)\n",
    "        print(f'{i}°: {dif}')\n",
    "        if (dif<500):\n",
    "            print(\"Ángulo encontrado\")\n",
    "            break"
   ]
  },
  {
   "cell_type": "code",
   "execution_count": 5,
   "id": "2ca91bef",
   "metadata": {},
   "outputs": [],
   "source": [
    "def alignRansac(img1,img2):\n",
    "    orb = cv2.ORB_create()\n",
    "    kp_a,desc_a = orb.detectAndCompute(img1,None)\n",
    "    kp_b,desc_b = orb.detectAndCompute(img2,None)\n",
    "    # define the bruteforce marcher object\n",
    "    bf = cv2.BFMatcher(cv2.NORM_HAMMING,crossCheck=True)\n",
    "    # perform matches\n",
    "    matches = bf.match(desc_a,desc_b)\n",
    "    matches.sort(key=lambda x: x.distance)\n",
    "    #similar_regions = [i for i in matches if i.distance<50]\n",
    "    matches = matches[:int(len(matches)*0.9)]\n",
    "    num = len(matches)\n",
    "    # match points\n",
    "    mpa = np.zeros((num,2))\n",
    "    mpb = np.zeros((num,2))\n",
    "    for i in range(num):\n",
    "        mpa[i,:] = kp_a[matches[i].queryIdx].pt\n",
    "        mpb[i,:] = kp_b[matches[i].trainIdx].pt\n",
    "    transform, mask = cv2.findHomography(mpa,mpb,cv2.RANSAC)\n",
    "    print(transform)\n",
    "    rimg = cv2.warpPerspective(escalera_fija,transform,(img2.shape))\n",
    "    return rimg"
   ]
  },
  {
   "cell_type": "code",
   "execution_count": 6,
   "id": "05a5986a",
   "metadata": {},
   "outputs": [],
   "source": [
    "# another rotate image function\n",
    "def rotImage(image, angle):\n",
    "  image_center = tuple(np.array(image.shape[1::-1]) / 2)\n",
    "  rot_mat = cv2.getRotationMatrix2D(image_center, angle, 1.0)\n",
    "  result = cv2.warpAffine(image, rot_mat, image.shape[1::-1], flags=cv2.INTER_LINEAR)\n",
    "  return result"
   ]
  },
  {
   "cell_type": "code",
   "execution_count": 24,
   "id": "c537e99a",
   "metadata": {},
   "outputs": [],
   "source": [
    "def draw_registration_result(source, target, transformation):\n",
    "    source_temp = copy.deepcopy(source)\n",
    "    target_temp = copy.deepcopy(target)\n",
    "    source_temp.paint_uniform_color([1, 0.706, 0])\n",
    "    target_temp.paint_uniform_color([0, 0.651, 0.929])\n",
    "    source_temp.transform(transformation)\n",
    "    o3d.visualization.draw_geometries([source_temp, target_temp])"
   ]
  },
  {
   "cell_type": "markdown",
   "id": "c9a2dac8",
   "metadata": {},
   "source": [
    "# PROBLEMA 1"
   ]
  },
  {
   "cell_type": "code",
   "execution_count": 7,
   "id": "209deed2",
   "metadata": {},
   "outputs": [],
   "source": [
    "cohete_fijo = cv2.imread('cohete_fijo.png',0)\n",
    "cohete_des = cv2.imread('cohete_des.png',0)"
   ]
  },
  {
   "cell_type": "code",
   "execution_count": 8,
   "id": "79e794ff",
   "metadata": {},
   "outputs": [],
   "source": [
    "#orb = cv2.ORB_create()\n",
    "#kp_a,desc_a = orb.detectAndCompute(cohete_fijo,None)\n",
    "#kp_b,desc_b = orb.detectAndCompute(cohete_des,None)\n",
    "#img2 = cv2.drawKeypoints(cohete_des,kp_b,None,flags=0)\n",
    "#plt.imshow(img2)"
   ]
  },
  {
   "cell_type": "code",
   "execution_count": 9,
   "id": "739571e0",
   "metadata": {
    "scrolled": false
   },
   "outputs": [
    {
     "name": "stdout",
     "output_type": "stream",
     "text": [
      "0°: 10504.9707\n",
      "5°: 8398.1496\n",
      "10°: 6904.5836\n",
      "15°: 5451.5912\n",
      "20°: 4393.5537\n",
      "25°: 4494.6185\n",
      "30°: 2963.0638\n",
      "35°: 4343.9323\n",
      "40°: 2028.3931\n",
      "45°: 2165.2125\n",
      "50°: 2226.7023\n",
      "55°: 4479.395\n",
      "60°: 484.4744\n",
      "Ángulo encontrado\n"
     ]
    }
   ],
   "source": [
    "findRotation(cohete_fijo,cohete_des)"
   ]
  },
  {
   "cell_type": "markdown",
   "id": "0772d4c7",
   "metadata": {},
   "source": [
    "La menor diferencia se da cuando la imagen es rotada 60°, por tanto la matriz de transformacion entre  la imagen original y la imagen modificada es la siguiente\n",
    "\n",
    "$\\begin{bmatrix} x' \\\\ y' \\end{bmatrix} = \\begin{bmatrix} cos(60°) & -sen(60°) \\\\ sen(60°) & cos(60°) \\end{bmatrix} \\begin{bmatrix} x \\\\ y \\end{bmatrix}$\n",
    "\n",
    "entonces, el cohete en la imagen desplazada se encuentra a 30° respecto a la horizontal"
   ]
  },
  {
   "cell_type": "code",
   "execution_count": 10,
   "id": "e87a0ff9",
   "metadata": {},
   "outputs": [],
   "source": [
    "rotatedImage = rotateImage(cohete_fijo,60)"
   ]
  },
  {
   "cell_type": "code",
   "execution_count": 11,
   "id": "02703120",
   "metadata": {
    "scrolled": false
   },
   "outputs": [
    {
     "data": {
      "text/plain": [
       "<matplotlib.image.AxesImage at 0x7f6959ee48b0>"
      ]
     },
     "execution_count": 11,
     "metadata": {},
     "output_type": "execute_result"
    },
    {
     "data": {
      "image/png": "[encoded data removed]",
      "text/plain": [
       "<Figure size 432x288 with 1 Axes>"
      ]
     },
     "metadata": {
      "needs_background": "light"
     },
     "output_type": "display_data"
    }
   ],
   "source": [
    "plt.imshow(rotatedImage,cmap='gray')"
   ]
  },
  {
   "cell_type": "code",
   "execution_count": 12,
   "id": "5860a310",
   "metadata": {},
   "outputs": [
    {
     "data": {
      "text/plain": [
       "<matplotlib.image.AxesImage at 0x7f6959dcd910>"
      ]
     },
     "execution_count": 12,
     "metadata": {},
     "output_type": "execute_result"
    },
    {
     "data": {
      "image/png": "[encoded data removed]",
      "text/plain": [
       "<Figure size 432x288 with 1 Axes>"
      ]
     },
     "metadata": {
      "needs_background": "light"
     },
     "output_type": "display_data"
    }
   ],
   "source": [
    "plt.imshow(cohete_des,cmap='gray')"
   ]
  },
  {
   "cell_type": "markdown",
   "id": "df4d80c1",
   "metadata": {},
   "source": [
    "# Problema 2"
   ]
  },
  {
   "cell_type": "code",
   "execution_count": 13,
   "id": "2cb47ead",
   "metadata": {},
   "outputs": [],
   "source": [
    "escalera_fija = cv2.imread('escalera_fija.jpeg',0)\n",
    "escalera_des = cv2.imread('escalera_des.jpeg',0)"
   ]
  },
  {
   "cell_type": "code",
   "execution_count": 14,
   "id": "38b3a3f3",
   "metadata": {},
   "outputs": [
    {
     "name": "stdout",
     "output_type": "stream",
     "text": [
      "[[-3.07088052e-03  1.00108695e+00  2.75546590e-01]\n",
      " [-1.00434932e+00  2.31626009e-03  4.98324887e+02]\n",
      " [-1.38397988e-05  9.43009334e-06  1.00000000e+00]]\n"
     ]
    }
   ],
   "source": [
    "# homography matrix\n",
    "aimg = alignRansac(escalera_fija,escalera_des)"
   ]
  },
  {
   "cell_type": "code",
   "execution_count": 15,
   "id": "3f088e46",
   "metadata": {},
   "outputs": [],
   "source": [
    "# get keypoints by sift method\n",
    "sift = cv2.xfeatures2d.SIFT_create(40)\n",
    "kp_a = sift.detect(escalera_fija,None)\n",
    "kp_b = sift.detect(escalera_des,None)\n",
    "# arrange keypoint vectors\n",
    "x_a = [[kp.pt[0]] for kp in kp_a]\n",
    "y_a = [[kp.pt[1]] for kp in kp_a]\n",
    "x_b = [[kp.pt[0]] for kp in kp_b]\n",
    "y_b = [[kp.pt[1]] for kp in kp_b]\n",
    "# create ransac regressor object\n",
    "ransac = RANSACRegressor()\n",
    "#fit model for first image\n",
    "ransac.fit(x_a,y_a)\n",
    "line_a = np.arange(min(x_a)[0],max(x_a)[0])[:,np.newaxis]\n",
    "ransac_a = ransac.predict(line_a)"
   ]
  },
  {
   "cell_type": "code",
   "execution_count": 16,
   "id": "0e631d55",
   "metadata": {},
   "outputs": [
    {
     "data": {
      "text/plain": [
       "<matplotlib.image.AxesImage at 0x7f695927fc40>"
      ]
     },
     "execution_count": 16,
     "metadata": {},
     "output_type": "execute_result"
    },
    {
     "data": {
      "image/png": "[encoded data removed]",
      "text/plain": [
       "<Figure size 432x288 with 1 Axes>"
      ]
     },
     "metadata": {
      "needs_background": "light"
     },
     "output_type": "display_data"
    }
   ],
   "source": [
    "# plot model regression for first image\n",
    "plt.plot(x_a,y_a,'*')\n",
    "plt.plot(line_a,ransac_a)\n",
    "plt.imshow(escalera_fija,cmap='gray')"
   ]
  },
  {
   "cell_type": "code",
   "execution_count": 17,
   "id": "d2e36708",
   "metadata": {
    "scrolled": false
   },
   "outputs": [
    {
     "data": {
      "text/plain": [
       "<matplotlib.image.AxesImage at 0x7f6951984970>"
      ]
     },
     "execution_count": 17,
     "metadata": {},
     "output_type": "execute_result"
    },
    {
     "data": {
      "image/png": "[encoded data removed]",
      "text/plain": [
       "<Figure size 432x288 with 1 Axes>"
      ]
     },
     "metadata": {
      "needs_background": "light"
     },
     "output_type": "display_data"
    }
   ],
   "source": [
    "# fit model for second image\n",
    "ransac.fit(x_b,y_b)\n",
    "# get regression result for second image\n",
    "line_b = np.arange(min(x_b)[0],max(x_b)[0])[:,np.newaxis]\n",
    "ransac_b = ransac.predict(line_b)\n",
    "# plot model regression for second image\n",
    "plt.plot(x_b,y_b,'*')\n",
    "plt.plot(line_b,ransac_b)\n",
    "plt.imshow(escalera_des,cmap='gray')"
   ]
  },
  {
   "cell_type": "code",
   "execution_count": 18,
   "id": "5a7d4e51",
   "metadata": {
    "scrolled": true
   },
   "outputs": [],
   "source": [
    "# get rotation between two lines\n",
    "m1 = (y_a[1][0]-y_a[0][0])/(x_a[1][0]-x_a[0][0])\n",
    "m2 = (y_b[1][0]-y_b[0][0])/(x_b[1][0]-x_b[0][0])\n",
    "# angles\n",
    "theta_a = math.degrees(math.atan(m1))\n",
    "theta_b = math.degrees(math.atan(m2))\n",
    "thetaRot = theta_a-theta_b"
   ]
  },
  {
   "cell_type": "code",
   "execution_count": 64,
   "id": "bbd15b1f",
   "metadata": {},
   "outputs": [
    {
     "name": "stdout",
     "output_type": "stream",
     "text": [
      "90.61214227524206\n"
     ]
    }
   ],
   "source": [
    "rot = rotImage(escalera_fija,thetaRot)\n",
    "print(thetaRot)"
   ]
  },
  {
   "cell_type": "code",
   "execution_count": 20,
   "id": "e9179e71",
   "metadata": {
    "scrolled": false
   },
   "outputs": [
    {
     "data": {
      "text/plain": [
       "<matplotlib.image.AxesImage at 0x7f6951950d30>"
      ]
     },
     "execution_count": 20,
     "metadata": {},
     "output_type": "execute_result"
    },
    {
     "data": {
      "image/png": "[encoded data removed]",
      "text/plain": [
       "<Figure size 432x288 with 1 Axes>"
      ]
     },
     "metadata": {
      "needs_background": "light"
     },
     "output_type": "display_data"
    }
   ],
   "source": [
    "plt.imshow(rot,cmap=\"gray\")"
   ]
  },
  {
   "cell_type": "markdown",
   "id": "3775435b",
   "metadata": {},
   "source": [
    "# Problema 3"
   ]
  },
  {
   "cell_type": "code",
   "execution_count": 79,
   "id": "2a0ce3db",
   "metadata": {
    "scrolled": true
   },
   "outputs": [],
   "source": [
    "dragon_fijo = o3d.io.read_point_cloud(\"dragon_fijo.ply\")\n",
    "dragon_des = o3d.io.read_point_cloud(\"dragon_des.ply\")\n",
    "# compute normals of the point cloud\n",
    "#down = dragon_fijo.voxel_down_sample(voxel_size=0.005)\n",
    "#dragon_fijo.estimate_normals(search_param=o3d.geometry.KDTreeSearchParamHybrid(radius=0.1,max_nn=30))\n",
    "#dragon_des.estimate_normals(search_param=o3d.geometry.KDTreeSearchParamHybrid(radius=0.1,max_nn=30))"
   ]
  },
  {
   "cell_type": "code",
   "execution_count": 87,
   "id": "48645680",
   "metadata": {},
   "outputs": [],
   "source": [
    "# show original cloud points\n",
    "o3d.visualization.draw_geometries([dragon_fijo])"
   ]
  },
  {
   "cell_type": "code",
   "execution_count": 83,
   "id": "751acff4",
   "metadata": {
    "scrolled": true
   },
   "outputs": [
    {
     "name": "stdout",
     "output_type": "stream",
     "text": [
      "RegistrationResult with fitness=1.000000e+00, inlier_rmse=9.325276e-03, and correspondence_set size of 100250\n",
      "Access transformation to get result.\n"
     ]
    }
   ],
   "source": [
    "# set initial parameters\n",
    "threshold = 0.2\n",
    "trans_init = np.asarray([[1, 0, 0, 0],\n",
    "                         [0, 1, 0, 0],\n",
    "                         [0, 0, 1, 0], [0.0, 0.0, 0.0, 1.0]])\n",
    "draw_registration_result(dragon_fijo, dragon_des, trans_init) #initial alignment\n",
    "evaluation = o3d.pipelines.registration.evaluate_registration(dragon_fijo, dragon_des,\n",
    "                                                    threshold, trans_init)\n",
    "print(evaluation)"
   ]
  },
  {
   "cell_type": "code",
   "execution_count": 84,
   "id": "6f6a8bb4",
   "metadata": {
    "scrolled": true
   },
   "outputs": [
    {
     "name": "stdout",
     "output_type": "stream",
     "text": [
      "RegistrationResult with fitness=1.000000e+00, inlier_rmse=6.080232e-09, and correspondence_set size of 100250\n",
      "Access transformation to get result.\n",
      "Transformation is:\n",
      "[[ 9.78147603e-01 -2.07911680e-01 -5.29701035e-11 -7.50049093e-10]\n",
      " [ 2.07911680e-01  9.78147603e-01 -2.17642034e-09  2.42266666e-09]\n",
      " [ 5.04315763e-10  2.11784753e-09  1.00000000e+00 -2.27154423e-10]\n",
      " [ 0.00000000e+00  0.00000000e+00  0.00000000e+00  1.00000000e+00]]\n"
     ]
    }
   ],
   "source": [
    "# Apply point-to-point ICP\n",
    "reg_p2p = o3d.pipelines.registration.registration_icp(\n",
    "    dragon_fijo, dragon_des, threshold, trans_init,\n",
    "    o3d.pipelines.registration.TransformationEstimationPointToPoint())\n",
    "print(reg_p2p)\n",
    "# homography transformation\n",
    "print(\"Transformation is:\")\n",
    "print(reg_p2p.transformation)\n",
    "# o3d.pipelines.registration.TransformationEstimationPointToPlane <- point-to-plane ICP"
   ]
  },
  {
   "cell_type": "code",
   "execution_count": 85,
   "id": "f5d7d573",
   "metadata": {
    "scrolled": false
   },
   "outputs": [],
   "source": [
    "# show first registration\n",
    "draw_registration_result(dragon_fijo, dragon_des, reg_p2p.transformation)"
   ]
  },
  {
   "cell_type": "code",
   "execution_count": 86,
   "id": "f56805a8",
   "metadata": {
    "scrolled": false
   },
   "outputs": [
    {
     "data": {
      "text/plain": [
       "PointCloud with 100250 points."
      ]
     },
     "execution_count": 86,
     "metadata": {},
     "output_type": "execute_result"
    }
   ],
   "source": [
    "# transform original image\n",
    "dragon_fijo.transform(reg_p2p.transformation)"
   ]
  },
  {
   "cell_type": "code",
   "execution_count": 101,
   "id": "98d4ccd2",
   "metadata": {
    "scrolled": true
   },
   "outputs": [
    {
     "name": "stdout",
     "output_type": "stream",
     "text": [
      "La distancia Hausdorff entre los dos conjuntos es 2.1431777963432097e-08\n"
     ]
    }
   ],
   "source": [
    "# compute Hausdorff similarity\n",
    "pcd_a = np.asarray(dragon_fijo.points)\n",
    "pcd_b = np.asarray(dragon_des.points)\n",
    "hausdorff_distance = 0\n",
    "maxLength = len(pcd_a) if len(pcd_a)>len(pcd_b) else len(pcd_b)\n",
    "for i in range(maxLength):\n",
    "    if i<len(pcd_a) and i<len(pcd_b):\n",
    "        distance = max([pcd_a[i][0]-pcd_b[i][0],pcd_a[i][1]-pcd_b[i][1],pcd_a[i][2]-pcd_b[i][2]])\n",
    "        hausdorff_distance = distance if distance>hausdorff_distance else hausdorff_distance\n",
    "print(f'La distancia Hausdorff entre los dos conjuntos es {hausdorff_distance}')"
   ]
  },
  {
   "cell_type": "code",
   "execution_count": null,
   "id": "a8d45a4f",
   "metadata": {},
   "outputs": [],
   "source": []
  }
 ],
 "metadata": {
  "kernelspec": {
   "display_name": "Python 3",
   "language": "python",
   "name": "python3"
  },
  "language_info": {
   "codemirror_mode": {
    "name": "ipython",
    "version": 3
   },
   "file_extension": ".py",
   "mimetype": "text/x-python",
   "name": "python",
   "nbconvert_exporter": "python",
   "pygments_lexer": "ipython3",
   "version": "3.8.8"
  }
 },
 "nbformat": 4,
 "nbformat_minor": 5
}
