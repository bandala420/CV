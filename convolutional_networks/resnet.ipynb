{
 "cells": [
  {
   "cell_type": "code",
   "execution_count": 1,
   "metadata": {},
   "outputs": [],
   "source": [
    "# Daniel Bandala @ apr 2022\n",
    "import torchvision.models as models\n",
    "import torch.optim as optim\n",
    "from ignite.handlers.param_scheduler import create_lr_scheduler_with_warmup \n",
    "import matplotlib.pyplot as plt"
   ]
  },
  {
   "cell_type": "code",
   "execution_count": 2,
   "metadata": {},
   "outputs": [
    {
     "name": "stdout",
     "output_type": "stream",
     "text": [
      "1e-05\n",
      "0.00012\n",
      "0.00023\n",
      "0.00034\n",
      "0.00045000000000000004\n",
      "0.00056\n",
      "0.00067\n",
      "0.0007800000000000001\n",
      "0.0008900000000000001\n",
      "0.001\n",
      "0.0009755282581475768\n",
      "0.0009045084971874736\n",
      "0.0007938926261462366\n",
      "0.0006545084971874737\n",
      "0.0005\n",
      "0.00034549150281252633\n",
      "0.0002061073738537635\n",
      "9.549150281252634e-05\n",
      "2.4471741852423235e-05\n",
      "0.0\n"
     ]
    },
    {
     "data": {
      "image/png": "[encoded data removed]",
      "text/plain": [
       "<Figure size 432x288 with 1 Axes>"
      ]
     },
     "metadata": {
      "needs_background": "light"
     },
     "output_type": "display_data"
    }
   ],
   "source": [
    "model = models.resnet18()\n",
    "# fine tunning parameters\n",
    "total_iteration = 20\n",
    "warmup_iteration = 10\n",
    "initial_lr = 1e-3\n",
    "warmup_initial_lr = 1e-5\n",
    "\n",
    "optimizer = optim.Adam(model.parameters(), lr=initial_lr)\n",
    "lr_scheduler = create_lr_scheduler_with_warmup(optim.lr_scheduler.CosineAnnealingLR(optimizer, T_max=total_iteration-warmup_iteration),\n",
    "                                               warmup_start_value=warmup_initial_lr,\n",
    "                                               warmup_duration=warmup_iteration,\n",
    "                                               warmup_end_value=initial_lr)\n",
    "\n",
    "x = []\n",
    "y = []\n",
    "\n",
    "for i in range(total_iteration):\n",
    "  lr_scheduler(None)\n",
    "  x.append(i)\n",
    "  y.append(optimizer.param_groups[0]['lr'])\n",
    "  print(optimizer.param_groups[0]['lr'])\n",
    "\n",
    "plt.plot(x, y)\n",
    "plt.show()"
   ]
  },
  {
   "cell_type": "code",
   "execution_count": null,
   "metadata": {},
   "outputs": [],
   "source": []
  }
 ],
 "metadata": {
  "accelerator": "GPU",
  "colab": {
   "collapsed_sections": [],
   "name": "CNN_práctica.ipynb",
   "provenance": []
  },
  "kernelspec": {
   "display_name": "Python 3 (ipykernel)",
   "language": "python",
   "name": "python3"
  },
  "language_info": {
   "codemirror_mode": {
    "name": "ipython",
    "version": 3
   },
   "file_extension": ".py",
   "mimetype": "text/x-python",
   "name": "python",
   "nbconvert_exporter": "python",
   "pygments_lexer": "ipython3",
   "version": "3.8.10"
  }
 },
 "nbformat": 4,
 "nbformat_minor": 4
}
