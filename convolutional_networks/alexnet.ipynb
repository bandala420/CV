{
 "cells": [
  {
   "cell_type": "code",
   "execution_count": 1,
   "id": "03f1a692-f1be-4cca-897a-ebc9e105beb4",
   "metadata": {},
   "outputs": [],
   "source": [
    "# Daniel Bandala @ apr 2022\n",
    "from tensorflow import keras\n",
    "import tensorflow as tf\n",
    "import numpy as np\n",
    "import matplotlib.pyplot as plt\n",
    "from keras.layers import Conv2D, Activation, MaxPooling2D, Flatten, Dense, Dropout"
   ]
  },
  {
   "cell_type": "markdown",
   "id": "64aa65d5-6f8a-4ca6-bf7e-a9582e1dba0b",
   "metadata": {},
   "source": [
    "# AlexNet\n",
    "AlexNet contained eight layers; the first five were convolutional layers, some of them followed by max-pooling layers, and the last three were fully connected layers. It used the non-saturating ReLU activation function, which showed improved training performance over tanh and sigmoid. AlexNet is considered one of the most influential papers published in computer vision, having spurred many more papers published employing CNNs and GPUs to accelerate deep learning. As of 2021, the AlexNet paper has been cited over 80,000 times according to Google Scholar.\n",
    "\n",
    "<img alt=\"alexnet.jpg\" src=\"https://publish-01.obsidian.md/access/fc5a2dd092cb06eefdd04ff307334d7a/_attachments/alexnet.jpg\">"
   ]
  },
  {
   "cell_type": "code",
   "execution_count": 2,
   "id": "bc80dff4-745b-43c0-b833-a15e5733ab22",
   "metadata": {
    "colab": {
     "base_uri": "https://localhost:8080/"
    },
    "id": "JXZk3z9weOYM",
    "outputId": "352c3895-f7d7-4bd9-c9da-43d4bc566153"
   },
   "outputs": [
    {
     "name": "stdout",
     "output_type": "stream",
     "text": [
      "Model: \"sequential\"\n",
      "_________________________________________________________________\n",
      " Layer (type)                Output Shape              Param #   \n",
      "=================================================================\n",
      " conv2d (Conv2D)             (None, 54, 54, 96)        34944     \n",
      "                                                                 \n",
      " activation (Activation)     (None, 54, 54, 96)        0         \n",
      "                                                                 \n",
      " max_pooling2d (MaxPooling2D  (None, 27, 27, 96)       0         \n",
      " )                                                               \n",
      "                                                                 \n",
      " conv2d_1 (Conv2D)           (None, 23, 23, 256)       614656    \n",
      "                                                                 \n",
      " activation_1 (Activation)   (None, 23, 23, 256)       0         \n",
      "                                                                 \n",
      " max_pooling2d_1 (MaxPooling  (None, 11, 11, 256)      0         \n",
      " 2D)                                                             \n",
      "                                                                 \n",
      " conv2d_2 (Conv2D)           (None, 9, 9, 384)         885120    \n",
      "                                                                 \n",
      " activation_2 (Activation)   (None, 9, 9, 384)         0         \n",
      "                                                                 \n",
      " conv2d_3 (Conv2D)           (None, 7, 7, 384)         1327488   \n",
      "                                                                 \n",
      " activation_3 (Activation)   (None, 7, 7, 384)         0         \n",
      "                                                                 \n",
      " conv2d_4 (Conv2D)           (None, 5, 5, 256)         884992    \n",
      "                                                                 \n",
      " activation_4 (Activation)   (None, 5, 5, 256)         0         \n",
      "                                                                 \n",
      " max_pooling2d_2 (MaxPooling  (None, 2, 2, 256)        0         \n",
      " 2D)                                                             \n",
      "                                                                 \n",
      " flatten (Flatten)           (None, 1024)              0         \n",
      "                                                                 \n",
      " dense (Dense)               (None, 4096)              4198400   \n",
      "                                                                 \n",
      " activation_5 (Activation)   (None, 4096)              0         \n",
      "                                                                 \n",
      " dropout (Dropout)           (None, 4096)              0         \n",
      "                                                                 \n",
      " dense_1 (Dense)             (None, 4096)              16781312  \n",
      "                                                                 \n",
      " activation_6 (Activation)   (None, 4096)              0         \n",
      "                                                                 \n",
      " dropout_1 (Dropout)         (None, 4096)              0         \n",
      "                                                                 \n",
      " dense_2 (Dense)             (None, 1000)              4097000   \n",
      "                                                                 \n",
      " activation_7 (Activation)   (None, 1000)              0         \n",
      "                                                                 \n",
      "=================================================================\n",
      "Total params: 28,823,912\n",
      "Trainable params: 28,823,912\n",
      "Non-trainable params: 0\n",
      "_________________________________________________________________\n"
     ]
    },
    {
     "name": "stderr",
     "output_type": "stream",
     "text": [
      "2022-04-23 23:48:34.332504: I tensorflow/stream_executor/cuda/cuda_gpu_executor.cc:939] successful NUMA node read from SysFS had negative value (-1), but there must be at least one NUMA node, so returning NUMA node zero\n",
      "2022-04-23 23:48:34.380609: I tensorflow/stream_executor/cuda/cuda_gpu_executor.cc:939] successful NUMA node read from SysFS had negative value (-1), but there must be at least one NUMA node, so returning NUMA node zero\n",
      "2022-04-23 23:48:34.380876: I tensorflow/stream_executor/cuda/cuda_gpu_executor.cc:939] successful NUMA node read from SysFS had negative value (-1), but there must be at least one NUMA node, so returning NUMA node zero\n",
      "2022-04-23 23:48:34.382044: I tensorflow/core/platform/cpu_feature_guard.cc:151] This TensorFlow binary is optimized with oneAPI Deep Neural Network Library (oneDNN) to use the following CPU instructions in performance-critical operations:  AVX2 FMA\n",
      "To enable them in other operations, rebuild TensorFlow with the appropriate compiler flags.\n",
      "2022-04-23 23:48:34.383704: I tensorflow/stream_executor/cuda/cuda_gpu_executor.cc:939] successful NUMA node read from SysFS had negative value (-1), but there must be at least one NUMA node, so returning NUMA node zero\n",
      "2022-04-23 23:48:34.384121: I tensorflow/stream_executor/cuda/cuda_gpu_executor.cc:939] successful NUMA node read from SysFS had negative value (-1), but there must be at least one NUMA node, so returning NUMA node zero\n",
      "2022-04-23 23:48:34.384626: I tensorflow/stream_executor/cuda/cuda_gpu_executor.cc:939] successful NUMA node read from SysFS had negative value (-1), but there must be at least one NUMA node, so returning NUMA node zero\n",
      "2022-04-23 23:48:35.072162: I tensorflow/stream_executor/cuda/cuda_gpu_executor.cc:939] successful NUMA node read from SysFS had negative value (-1), but there must be at least one NUMA node, so returning NUMA node zero\n",
      "2022-04-23 23:48:35.072427: I tensorflow/stream_executor/cuda/cuda_gpu_executor.cc:939] successful NUMA node read from SysFS had negative value (-1), but there must be at least one NUMA node, so returning NUMA node zero\n",
      "2022-04-23 23:48:35.072625: I tensorflow/stream_executor/cuda/cuda_gpu_executor.cc:939] successful NUMA node read from SysFS had negative value (-1), but there must be at least one NUMA node, so returning NUMA node zero\n",
      "2022-04-23 23:48:35.072799: I tensorflow/core/common_runtime/gpu/gpu_device.cc:1525] Created device /job:localhost/replica:0/task:0/device:GPU:0 with 610 MB memory:  -> device: 0, name: NVIDIA GeForce GTX 1650, pci bus id: 0000:01:00.0, compute capability: 7.5\n",
      "/home/bandala/.local/lib/python3.8/site-packages/keras/optimizer_v2/gradient_descent.py:102: UserWarning: The `lr` argument is deprecated, use `learning_rate` instead.\n",
      "  super(SGD, self).__init__(name, **kwargs)\n"
     ]
    }
   ],
   "source": [
    "## Alexnet model\n",
    "def Alexnet(num_classes):\n",
    "    model = keras.Sequential([\n",
    "            #Entrada y primera capa de convolución\n",
    "            Conv2D(filters = 96, input_shape = (224, 224, 3), \n",
    "                    kernel_size = (11, 11), strides = (4, 4), \n",
    "                    padding = 'valid'),\n",
    "            Activation('relu'),\n",
    "            MaxPooling2D(pool_size = (2, 2),\n",
    "                strides = (2, 2), padding = 'valid'),\n",
    "            #Segunda capa de convolución\n",
    "            Conv2D(filters = 256, kernel_size = (5, 5), \n",
    "                strides = (1, 1), padding = 'valid'),\n",
    "            Activation('relu'),\n",
    "            MaxPooling2D(pool_size = (2, 2), strides = (2, 2), \n",
    "                padding = 'valid'),\n",
    "            #Tercera capa de convolución\n",
    "            Conv2D(filters = 384, kernel_size = (3, 3), \n",
    "                strides = (1, 1), padding = 'valid'),\n",
    "            Activation('relu'),\n",
    "            #Cuarta capa de convolución\n",
    "            Conv2D(filters = 384, kernel_size = (3, 3), \n",
    "                strides = (1, 1), padding = 'valid'),\n",
    "            Activation('relu'),\n",
    "            #Quinta capa de convolución\n",
    "            Conv2D(filters = 256, kernel_size = (3, 3), \n",
    "                strides = (1, 1), padding = 'valid'),\n",
    "            Activation('relu'),\n",
    "\n",
    "            MaxPooling2D(pool_size = (2, 2), strides = (2, 2), \n",
    "                padding = 'valid'),\n",
    "            \n",
    "            Flatten(),\n",
    "\n",
    "            Dense(4096),\n",
    "            Activation('relu'),\n",
    "            Dropout(0.5),\n",
    "            \n",
    "            Dense(4096),\n",
    "            Activation('relu'),\n",
    "            Dropout(0.5),\n",
    "            \n",
    "            Dense(num_classes),\n",
    "            Activation('softmax')      \n",
    "    ])\n",
    "    model.compile(loss='sparse_categorical_crossentropy', optimizer=tf.optimizers.SGD(lr=0.001), metrics=['accuracy'])\n",
    "    model.summary()\n",
    "\n",
    "    return model\n",
    "\n",
    "alexnet = Alexnet(1000)"
   ]
  },
  {
   "cell_type": "code",
   "execution_count": null,
   "id": "b0a2dde9-e7fd-4349-8771-e627b81d9cc3",
   "metadata": {},
   "outputs": [],
   "source": []
  }
 ],
 "metadata": {
  "kernelspec": {
   "display_name": "Python 3 (ipykernel)",
   "language": "python",
   "name": "python3"
  },
  "language_info": {
   "codemirror_mode": {
    "name": "ipython",
    "version": 3
   },
   "file_extension": ".py",
   "mimetype": "text/x-python",
   "name": "python",
   "nbconvert_exporter": "python",
   "pygments_lexer": "ipython3",
   "version": "3.8.10"
  }
 },
 "nbformat": 4,
 "nbformat_minor": 5
}
