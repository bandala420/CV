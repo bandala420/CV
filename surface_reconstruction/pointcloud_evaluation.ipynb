{
 "cells": [
  {
   "cell_type": "code",
   "execution_count": 1,
   "id": "e3cbb0d5",
   "metadata": {},
   "outputs": [
    {
     "name": "stdout",
     "output_type": "stream",
     "text": [
      "Jupyter environment detected. Enabling Open3D WebVisualizer.\n",
      "[Open3D INFO] WebRTC GUI backend enabled.\n",
      "[Open3D INFO] WebRTCWindowSystem: HTTP handshake server disabled.\n"
     ]
    }
   ],
   "source": [
    "import open3d as o3d\n",
    "import numpy as np\n",
    "import copy\n",
    "import math"
   ]
  },
  {
   "cell_type": "markdown",
   "id": "90dea535",
   "metadata": {},
   "source": [
    "# Functions"
   ]
  },
  {
   "cell_type": "code",
   "execution_count": 2,
   "id": "978bbb06",
   "metadata": {},
   "outputs": [],
   "source": [
    "def draw_registration_result(source, target, transformation):\n",
    "    source_temp = copy.deepcopy(source)\n",
    "    target_temp = copy.deepcopy(target)\n",
    "    source_temp.paint_uniform_color([1, 0.706, 0])\n",
    "    target_temp.paint_uniform_color([0, 0.651, 0.929])\n",
    "    source_temp.transform(transformation)\n",
    "    o3d.visualization.draw_geometries([source_temp, target_temp])"
   ]
  },
  {
   "cell_type": "code",
   "execution_count": 3,
   "id": "74b65134",
   "metadata": {},
   "outputs": [],
   "source": [
    "def diceCoefficient(modelReduced,originalReduced):\n",
    "    intersections = 0\n",
    "    for i in range(len(modelReduced)):\n",
    "        mX = modelReduced[i][0]\n",
    "        mY = modelReduced[i][1]\n",
    "        mZ = modelReduced[i][2]\n",
    "        for j in range(len(originalReduced)):\n",
    "            xDif = abs(originalReduced[j][0]-mX)\n",
    "            yDif = abs(originalReduced[j][1]-mY)\n",
    "            zDif = abs(originalReduced[j][2]-mZ)\n",
    "            distance = math.sqrt(xDif*xDif+yDif*yDif+zDif*zDif)\n",
    "            if distance<10:\n",
    "                intersections += 1\n",
    "                break\n",
    "    return 2*intersections/(len(modelReduced)+len(originalReduced))"
   ]
  },
  {
   "cell_type": "code",
   "execution_count": 17,
   "id": "5bf4257d",
   "metadata": {},
   "outputs": [],
   "source": [
    "def hausdorffDistance(modelReduced,originalModel):\n",
    "    hausdorff_distance = 0\n",
    "    for i in range(len(modelReduced)):\n",
    "        model_distance = math.sqrt(modelReduced[i][0]*modelReduced[i][0]+modelReduced[i][1]*modelReduced[i][1]+modelReduced[i][2]*modelReduced[i][2])\n",
    "        for j in range(len(originalReduced)):\n",
    "            original_distance = math.sqrt(originalReduced[j][0]*originalReduced[j][0]+originalReduced[j][1]*originalReduced[j][1]+originalReduced[j][2]*originalReduced[j][2])\n",
    "            distance = abs(model_distance-original_distance)\n",
    "            hausdorff_distance = distance if distance>hausdorff_distance else hausdorff_distance\n",
    "    return hausdorff_distance"
   ]
  },
  {
   "cell_type": "markdown",
   "id": "3775435b",
   "metadata": {},
   "source": [
    "# Reconstruction evaluation"
   ]
  },
  {
   "cell_type": "markdown",
   "id": "26a77b96",
   "metadata": {},
   "source": [
    "Se realiza el registro entre la nube de puntos del modelo obtenido y el molde original para realizar una evaluación del desempeño obtenido por la reconstrucción. Esto se realiza utilizando el algoritmo Iterative Closest Points. La transformación inicial del algoritmo es tal que rota los puntos del modelo -90° sobre el eje x y 180° sobre el eje y. De esta manera se tiene que\n",
    "$$t_{ini} = \\begin{bmatrix}\n",
    "cos \\theta & 0 & sen \\theta \\\\\n",
    "-sen \\theta & 0 & cos \\theta \\\\\n",
    "0 & -1 & 0\n",
    "\\end{bmatrix}, \\theta=\\pi $$"
   ]
  },
  {
   "cell_type": "code",
   "execution_count": 4,
   "id": "2a0ce3db",
   "metadata": {
    "scrolled": true
   },
   "outputs": [],
   "source": [
    "modelMesh = o3d.io.read_point_cloud(\"test_images/009/carlos-rivas_mesh_poisson.ply\")\n",
    "originalMesh = o3d.io.read_point_cloud(\"test_images/009/carlos-rivas_mesh_oriented_original.ply\")\n",
    "# scale model mesh\n",
    "modelMesh = modelMesh.scale(1000, center=modelMesh.get_center())\n",
    "# compute normals of the point cloud\n",
    "#down = modelMesh.voxel_down_sample(voxel_size=0.005)\n",
    "#modelMesh.estimate_normals(search_param=o3d.geometry.KDTreeSearchParamHybrid(radius=0.01,max_nn=40))\n",
    "#originalMesh.estimate_normals(search_param=o3d.geometry.KDTreeSearchParamHybrid(radius=0.01,max_nn=40))"
   ]
  },
  {
   "cell_type": "code",
   "execution_count": 5,
   "id": "48645680",
   "metadata": {},
   "outputs": [],
   "source": [
    "# show original cloud points\n",
    "o3d.visualization.draw_geometries([originalMesh,modelMesh])\n",
    "#o3d.visualization.draw_geometries([originalMesh])"
   ]
  },
  {
   "cell_type": "code",
   "execution_count": 6,
   "id": "751acff4",
   "metadata": {
    "scrolled": false
   },
   "outputs": [
    {
     "name": "stdout",
     "output_type": "stream",
     "text": [
      "RegistrationResult with fitness=6.597200e-01, inlier_rmse=5.317634e+00, and correspondence_set size of 6173\n",
      "Access transformation to get result.\n"
     ]
    }
   ],
   "source": [
    "# set initial parameters\n",
    "threshold = 10\n",
    "trans_init = np.asarray([[-1, 0, 0, 0],\n",
    "                         [0, 0, -1, 0],\n",
    "                         [0, -1, 0, 0], [0.0, 0.0, 0.0, 1.0]])\n",
    "draw_registration_result(modelMesh, originalMesh, trans_init) #initial alignment\n",
    "evaluation = o3d.pipelines.registration.evaluate_registration(modelMesh, originalMesh,\n",
    "                                                    threshold, trans_init)\n",
    "print(evaluation)"
   ]
  },
  {
   "cell_type": "code",
   "execution_count": 7,
   "id": "e92a47b3",
   "metadata": {
    "scrolled": true
   },
   "outputs": [
    {
     "name": "stdout",
     "output_type": "stream",
     "text": [
      "RegistrationResult with fitness=9.873891e-01, inlier_rmse=3.604513e+00, and correspondence_set size of 9239\n",
      "Access transformation to get result.\n",
      "Transformation is:\n",
      "[[-0.97923214 -0.17707311  0.09873966 -1.17355615]\n",
      " [-0.14259583  0.25532672 -0.9562817  14.58906849]\n",
      " [ 0.14412091 -0.95050165 -0.27527402 -1.02160842]\n",
      " [ 0.          0.          0.          1.        ]]\n"
     ]
    }
   ],
   "source": [
    "# Apply point-to-point ICP\n",
    "reg_p2p = o3d.pipelines.registration.registration_icp(\n",
    "    modelMesh, originalMesh, threshold, trans_init,\n",
    "    o3d.pipelines.registration.TransformationEstimationPointToPoint())\n",
    "print(reg_p2p)\n",
    "# homography transformation\n",
    "print(\"Transformation is:\")\n",
    "print(reg_p2p.transformation)\n",
    "# o3d.pipelines.registration.TransformationEstimationPointToPlane <- point-to-plane ICP"
   ]
  },
  {
   "cell_type": "code",
   "execution_count": 8,
   "id": "f5d7d573",
   "metadata": {
    "scrolled": false
   },
   "outputs": [],
   "source": [
    "# show first registration\n",
    "draw_registration_result(modelMesh, originalMesh, reg_p2p.transformation)"
   ]
  },
  {
   "cell_type": "code",
   "execution_count": 9,
   "id": "f56805a8",
   "metadata": {
    "scrolled": false
   },
   "outputs": [],
   "source": [
    "# transform original image\n",
    "modelMesh = modelMesh.transform(reg_p2p.transformation)"
   ]
  },
  {
   "cell_type": "code",
   "execution_count": 10,
   "id": "0f8d2a14",
   "metadata": {},
   "outputs": [],
   "source": [
    "# show original cloud points\n",
    "o3d.visualization.draw_geometries([originalMesh,modelMesh])"
   ]
  },
  {
   "cell_type": "markdown",
   "id": "80ea62dc",
   "metadata": {},
   "source": [
    "Luego, se utiliza el coeficiente de Dice para evaluar el desempeño del algoritmo utilizado para la reconstrucción del modelo. Este está definido como\n",
    "$$ DSC = \\frac{2|X \\cap Y|}{|X|+|Y|} $$"
   ]
  },
  {
   "cell_type": "code",
   "execution_count": 11,
   "id": "5b4d529a",
   "metadata": {},
   "outputs": [],
   "source": [
    "# cloud points to array data\n",
    "pcd_model = np.asarray(modelMesh.points)\n",
    "pcd_original = np.asarray(originalMesh.points)\n",
    "# reduce cloud sample\n",
    "mainFactor = 10\n",
    "reduceFactor = mainFactor*int(len(pcd_original)/len(pcd_model))\n",
    "modelReduced = modelMesh.uniform_down_sample(mainFactor)\n",
    "originalReduced = originalMesh.uniform_down_sample(reduceFactor)"
   ]
  },
  {
   "cell_type": "code",
   "execution_count": 12,
   "id": "858f1204",
   "metadata": {},
   "outputs": [],
   "source": [
    "o3d.visualization.draw_geometries([originalReduced,modelReduced])"
   ]
  },
  {
   "cell_type": "code",
   "execution_count": 13,
   "id": "5416326a",
   "metadata": {},
   "outputs": [],
   "source": [
    "# get point cloud as array\n",
    "modelReduced = np.asarray(modelReduced.points)\n",
    "originalReduced = np.asarray(originalReduced.points)"
   ]
  },
  {
   "cell_type": "code",
   "execution_count": 14,
   "id": "cbb0f6bb",
   "metadata": {},
   "outputs": [
    {
     "name": "stdout",
     "output_type": "stream",
     "text": [
      "El coeficiente de dice es 0.8839884947267498\n"
     ]
    }
   ],
   "source": [
    "# compute dice coefficient\n",
    "diceCoeff = diceCoefficient(modelReduced,originalReduced)\n",
    "print(f'El coeficiente de dice es {diceCoeff}')"
   ]
  },
  {
   "cell_type": "code",
   "execution_count": 18,
   "id": "2cd208cb",
   "metadata": {},
   "outputs": [
    {
     "name": "stdout",
     "output_type": "stream",
     "text": [
      "La distancia Hausdorff entre los dos conjuntos es 72.34941339954165\n"
     ]
    }
   ],
   "source": [
    "# compute Hausdorff similarity\n",
    "hDistance = hausdorffDistance(modelReduced,originalReduced)\n",
    "print(f'La distancia Hausdorff entre los dos conjuntos es {hDistance}')"
   ]
  },
  {
   "cell_type": "code",
   "execution_count": null,
   "id": "2ea681ab",
   "metadata": {},
   "outputs": [],
   "source": []
  }
 ],
 "metadata": {
  "kernelspec": {
   "display_name": "Python 3",
   "language": "python",
   "name": "python3"
  },
  "language_info": {
   "codemirror_mode": {
    "name": "ipython",
    "version": 3
   },
   "file_extension": ".py",
   "mimetype": "text/x-python",
   "name": "python",
   "nbconvert_exporter": "python",
   "pygments_lexer": "ipython3",
   "version": "3.8.8"
  }
 },
 "nbformat": 4,
 "nbformat_minor": 5
}
